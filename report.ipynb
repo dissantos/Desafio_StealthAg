{
 "cells": [
  {
   "cell_type": "markdown",
   "source": [
    "# Meteor Challenge"
   ],
   "metadata": {}
  },
  {
   "cell_type": "markdown",
   "source": [
    "Para este desafio eu usei a linguagem Python utilizando a biblioteca Python Image Library (PIL)"
   ],
   "metadata": {}
  },
  {
   "cell_type": "code",
   "execution_count": 1,
   "source": [
    "from PIL import Image"
   ],
   "outputs": [],
   "metadata": {}
  },
  {
   "cell_type": "markdown",
   "source": [
    "Inicialmente, eu carreguei a imagem utilizando a biblioteca de python PIL e, de acordo com o enunciado, criei as variáveis que representam os pixels relevantes da imagem."
   ],
   "metadata": {}
  },
  {
   "cell_type": "code",
   "execution_count": 2,
   "source": [
    "image = Image.open('meteor_challenge_01.png')\r\n",
    "\r\n",
    "#Converte os pixels imagem para o modo rgb\r\n",
    "image = image.convert('RGB')\r\n",
    "\r\n",
    "star_pixel = (255,255,255)\r\n",
    "meteor_pixel = (255,0,0)\r\n",
    "water_pixel = (0,0,255)\r\n",
    "ground_pixel = (0,0,0)\r\n"
   ],
   "outputs": [],
   "metadata": {}
  },
  {
   "cell_type": "markdown",
   "source": [
    "## Quantidade de estrelas\r\n",
    "\r\n",
    "Para descobrir a quantidade de estrelas, percorro o vetor de pixels dado pela função ```getdata()``` e conto a quantidade de pixels brancos encontrados."
   ],
   "metadata": {}
  },
  {
   "cell_type": "code",
   "execution_count": 3,
   "source": [
    "star_count = 0\r\n",
    "for pixel in image.getdata():\r\n",
    "   if (pixel == star_pixel):\r\n",
    "       star_count += 1\r\n",
    "   elif (pixel == ground_pixel):\r\n",
    "       break\r\n",
    "\r\n",
    "print(\"Number of star is: \",star_count) "
   ],
   "outputs": [
    {
     "output_type": "stream",
     "name": "stdout",
     "text": [
      "Number of star is:  315\n"
     ]
    }
   ],
   "metadata": {}
  },
  {
   "cell_type": "markdown",
   "source": [
    "## Quantidade de meteoros\r\n",
    "Da mesma forma que feito anteriormente, só que agora é encontrar a quantidade de pixels vermelhos."
   ],
   "metadata": {}
  },
  {
   "cell_type": "code",
   "execution_count": 4,
   "source": [
    "meteor_count = 0\r\n",
    "for pixel in image.getdata():\r\n",
    "    if (pixel == meteor_pixel):\r\n",
    "        meteor_count += 1\r\n",
    "    elif (pixel == ground_pixel):\r\n",
    "        break\r\n",
    "\r\n",
    "print(\"Number of meteor is: \",meteor_count) "
   ],
   "outputs": [
    {
     "output_type": "stream",
     "name": "stdout",
     "text": [
      "Number of meteor is:  328\n"
     ]
    }
   ],
   "metadata": {}
  },
  {
   "cell_type": "markdown",
   "source": [
    "## Quantidade de meteoros que cairão na água\r\n",
    "Neste caso, irei transformar a imagem em uma matriz de pixels. Dessa forma percorrerei coluna por coluna da imagem contando a quantidade meteoros, caso no final eu encontro o pixel azul (que representa a água), a quantidade meteoros encontradas daquela coluna irá para a solução final."
   ],
   "metadata": {}
  },
  {
   "cell_type": "code",
   "execution_count": 5,
   "source": [
    "# armazena a altura e largura da figura selecionada\r\n",
    "width = image.size[0]\r\n",
    "height = image.size[1]\r\n",
    "\r\n",
    "#carrega a matriz de pixels da imagem\r\n",
    "pixels = image.load()\r\n",
    "\r\n",
    "meteor_water_count = 0\r\n",
    "\r\n",
    "#percorre as colunas da matriz, caso encontre agua no final da coluna armazena o valor obtido\r\n",
    "for i in range(width):\r\n",
    "    aux = 0 \r\n",
    "    for j in range(height):\r\n",
    "        if (pixels[i,j] == meteor_pixel):\r\n",
    "            aux += 1\r\n",
    "        elif (pixels[i,j] == water_pixel):\r\n",
    "            meteor_water_count += aux\r\n",
    "            break\r\n",
    "\r\n",
    "print(\"Number of meteors that fell into the water: \",meteor_water_count)"
   ],
   "outputs": [
    {
     "output_type": "stream",
     "name": "stdout",
     "text": [
      "Number of meteors that fell into the water:  105\n"
     ]
    }
   ],
   "metadata": {}
  },
  {
   "cell_type": "markdown",
   "source": [
    "## Frase escondida\r\n",
    "Nesta etapa opcional, eu tentei algumas coisas mas não obtive sucesso. Provavelmente, deve ser uma ideia muito mais simples das que eu tive."
   ],
   "metadata": {}
  },
  {
   "cell_type": "markdown",
   "source": [
    "-------------------------------\r\n",
    "A primeira coisa que tentei, foi tentar mudar o fundo do sol para ver se a mensagem estava ali. Entretanto, nada foi encontrado. A imagem ```teste.png``` mostra o resultado."
   ],
   "metadata": {}
  },
  {
   "cell_type": "code",
   "execution_count": 6,
   "source": [
    "image = Image.open(\"meteor_challenge_01.png\")\r\n",
    "image.convert(\"RGB\")\r\n",
    "pixels = image.load()\r\n",
    "width = image.size[0]\r\n",
    "height = image.size[1]\r\n",
    "\r\n",
    "for i in range(width):\r\n",
    "    for j in range(height):\r\n",
    "        if (pixels[i,j] == ground_pixel):\r\n",
    "            pixels[i,j] = star_pixel\r\n",
    "            \r\n",
    "image.save(\"test.png\")"
   ],
   "outputs": [],
   "metadata": {}
  },
  {
   "cell_type": "markdown",
   "source": [
    "Minha segunda tentativa foi tentar aplicar técnica de stenografia para descobrir a mensagem. No caso usei o método do Least Significant Bit. Este método consiste em pegar o bit menos signifcante de cada pixel (que no caso possui 8 bits), e a cada 8 pixels um novo byte surgia."
   ],
   "metadata": {}
  },
  {
   "cell_type": "code",
   "execution_count": 7,
   "source": [
    "from PIL import Image\r\n",
    "\r\n",
    "#change array to char\r\n",
    "def arr_to_char(arr):\r\n",
    "    expoent = 0\r\n",
    "    value = 0\r\n",
    "    for bit in arr:\r\n",
    "        value += int(bit)*2**expoent\r\n",
    "        expoent+=1\r\n",
    "    return chr(value)\r\n",
    "\r\n",
    "image = Image.open(\"meteor_challenge_01.png\")\r\n",
    "image = image.convert(\"L\")\r\n",
    "\r\n",
    "data = ''\r\n",
    "\r\n",
    "count = 0\r\n",
    "arr_bytes = []\r\n",
    "arr = []\r\n",
    "for pixel in image.getdata():\r\n",
    "    arr.append(bin(pixel)[-1])\r\n",
    "    count += 1\r\n",
    "    if(count % 8 == 0):\r\n",
    "        arr_bytes.append(arr_to_char(arr))\r\n",
    "        arr = []\r\n",
    "\r\n",
    "string = ''\r\n",
    "for char in arr_bytes:        \r\n",
    "    if (char != '\\x00'):\r\n",
    "        string += char\r\n",
    "        \r\n",
    "print(string)\r\n",
    "\r\n"
   ],
   "outputs": [
    {
     "output_type": "stream",
     "name": "stdout",
     "text": [
      "\u0007\" \u0002\t\t\u0004\n",
      "\u0005\u0004\" \u0002\t\t$\u0004\u0004\" \u0002\t\t\u0014\u0002\u0004\" \u0002\t\t\n",
      "\"\u00010\u0006\u0001F\u0007F\u0007ë\u001a\u0016\u0002\u0018\u0003\u0005~âÀ:@q@|\u0001£1\u0006üc\u0018¸\u000f\u0005\u0014\u0003\u0014\u0003Ð?¢\u00144\u0007à(\u0005àÑAþ\u0001ô\u000f ÿÝ\u0002ð\u0001\n",
      "\u0012À£ûàYààì\u0001{\u001apx\u00014\u0001@p\u001c$0Ì!\n"
     ]
    }
   ],
   "metadata": {}
  },
  {
   "cell_type": "markdown",
   "source": [
    "-------------------------------------\r\n",
    "# Conclusão\r\n",
    "\r\n",
    "Estou enviando junto o script com os algoritmos criados de forma resumida.\r\n",
    "\r\n",
    "| Task                          | Answer|\r\n",
    "|------------------------------\t|-----\t|\r\n",
    "| Number of stars              \t| 315 \t|\r\n",
    "| Number of Meteors            \t| 328 \t|\r\n",
    "| Meteors falling on the Water \t| 105 \t|\r\n",
    "| (optional) Hidden Phrase     \t|     \t|"
   ],
   "metadata": {}
  }
 ],
 "metadata": {
  "orig_nbformat": 4,
  "language_info": {
   "name": "python",
   "version": "3.7.4",
   "mimetype": "text/x-python",
   "codemirror_mode": {
    "name": "ipython",
    "version": 3
   },
   "pygments_lexer": "ipython3",
   "nbconvert_exporter": "python",
   "file_extension": ".py"
  },
  "kernelspec": {
   "name": "python3",
   "display_name": "Python 3.7.4 32-bit ('Python37-32')"
  },
  "interpreter": {
   "hash": "a7e498de035336729621da851ea705c42bf6f0048d24c1aeb3cae20c623b4c95"
  }
 },
 "nbformat": 4,
 "nbformat_minor": 2
}