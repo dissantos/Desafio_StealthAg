{
 "cells": [
  {
   "cell_type": "markdown",
   "source": [
    "# Meteor Challenge"
   ],
   "metadata": {}
  },
  {
   "cell_type": "code",
   "execution_count": 8,
   "source": [
    "from PIL import Image"
   ],
   "outputs": [],
   "metadata": {}
  },
  {
   "cell_type": "markdown",
   "source": [
    "Inicialmente, eu carreguei a imagem utilizando a biblioteca de python PIL e, de acordo com o enunciado, criei as variáveis que representam os pixels relevantes da imagem."
   ],
   "metadata": {}
  },
  {
   "cell_type": "code",
   "execution_count": 9,
   "source": [
    "image = Image.open('meteor_challenge_01.png')\r\n",
    "\r\n",
    "#Converte os pixels imagem para o modo rgb\r\n",
    "image = image.convert('RGB')\r\n",
    "\r\n",
    "star_pixel = (255,255,255)\r\n",
    "meteor_pixel = (255,0,0)\r\n",
    "water_pixel = (0,0,255)\r\n",
    "ground_pixel = (0,0,0)\r\n"
   ],
   "outputs": [],
   "metadata": {}
  },
  {
   "cell_type": "markdown",
   "source": [
    "## Quantidade de estrelas\r\n",
    "\r\n",
    "Para descobrir a quantidade de estrelas, percorro o vetor de pixels dado pela função ```getdata()``` e conto a quantidade de pixels brancos encontrados."
   ],
   "metadata": {}
  },
  {
   "cell_type": "code",
   "execution_count": 10,
   "source": [
    "star_count = 0\r\n",
    "for pixel in image.getdata():\r\n",
    "   if (pixel == star_pixel):\r\n",
    "       star_count += 1\r\n",
    "\r\n",
    "print(\"Number of star is: \",star_count) "
   ],
   "outputs": [
    {
     "output_type": "stream",
     "name": "stdout",
     "text": [
      "Number of star is:  315\n"
     ]
    }
   ],
   "metadata": {}
  },
  {
   "cell_type": "markdown",
   "source": [
    "## Quantidade de meteoros\r\n",
    "Da mesma forma que feito anteriormente, só que agora é encontrar a quantidade de pixels vermelhos."
   ],
   "metadata": {}
  },
  {
   "cell_type": "code",
   "execution_count": 11,
   "source": [
    "meteor_count = 0\r\n",
    "for pixel in image.getdata():\r\n",
    "    if (pixel == meteor_pixel):\r\n",
    "        meteor_count += 1\r\n",
    "\r\n",
    "print(\"Number of meteor is: \",meteor_count) "
   ],
   "outputs": [
    {
     "output_type": "stream",
     "name": "stdout",
     "text": [
      "Number of meteor is:  328\n"
     ]
    }
   ],
   "metadata": {}
  },
  {
   "cell_type": "markdown",
   "source": [
    "## Quantidade de meteoros que cairão na água\r\n",
    "Neste caso, irei transformar a imagem em uma matriz de pixels. Dessa forma percorrerei coluna por coluna da imagem contando a quantidade meteoros, caso no final eu encontro o pixel azul (que representa a água), a quantidade meteoros encontradas daquela coluna irá para a solução final."
   ],
   "metadata": {}
  },
  {
   "cell_type": "code",
   "execution_count": 12,
   "source": [
    "# armazena a altura e largura da figura selecionada\r\n",
    "width = image.size[0]\r\n",
    "height = image.size[1]\r\n",
    "\r\n",
    "#carrega a matriz de pixels da imagem\r\n",
    "pixels = image.load()\r\n",
    "\r\n",
    "count = 0\r\n",
    "\r\n",
    "#percorre as colunas da matriz, caso encontre agua no final da coluna armazena o valor obtido\r\n",
    "for i in range(width):\r\n",
    "    aux = 0 \r\n",
    "    for j in range(height):\r\n",
    "        if (pixels[i,j] == meteor_pixel):\r\n",
    "            aux += 1\r\n",
    "        elif (pixels[i,j] == water_pixel):\r\n",
    "            count += aux\r\n",
    "            break\r\n",
    "\r\n",
    "print(\"Number of meteors that fell into the water: \",count)"
   ],
   "outputs": [
    {
     "output_type": "stream",
     "name": "stdout",
     "text": [
      "Number of meteors that fell into the water:  105\n"
     ]
    }
   ],
   "metadata": {}
  },
  {
   "cell_type": "markdown",
   "source": [
    "## Frase escondida"
   ],
   "metadata": {}
  },
  {
   "cell_type": "code",
   "execution_count": 13,
   "source": [
    "pixel_set = {}\r\n",
    "for pixel in image.getdata():\r\n",
    "    if pixel in pixel_set.keys():\r\n",
    "        pixel_set[pixel] += 1\r\n",
    "    else:\r\n",
    "        pixel_set[pixel] = 0\r\n",
    "count = 0\r\n",
    "for pixel,value in enumerate(pixel_set):\r\n",
    "    if value[1] >= 64 and value[1] <= 90:\r\n",
    "        count += 1\r\n"
   ],
   "outputs": [],
   "metadata": {}
  },
  {
   "cell_type": "code",
   "execution_count": 22,
   "source": [
    "import cv2\r\n",
    "\r\n",
    "\r\n",
    "def char_generator(message):\r\n",
    "  for c in message:\r\n",
    "    yield ord(c)\r\n",
    "\r\n",
    "def get_image(image_location):\r\n",
    "  img = cv2.imread(image_location)\r\n",
    "  return img\r\n",
    "\r\n",
    "def gcd(x, y):\r\n",
    "  while(y):\r\n",
    "    x, y = y, x % y\r\n",
    "\r\n",
    "  return x\r\n",
    "\r\n",
    "def encode_image(image_location, msg):\r\n",
    "  img = get_image(image_location)\r\n",
    "  msg_gen = char_generator(msg)\r\n",
    "  pattern = gcd(len(img), len(img[0]))\r\n",
    "  for i in range(len(img)):\r\n",
    "    for j in range(len(img[0])):\r\n",
    "      if (i+1 * j+1) % pattern == 0:\r\n",
    "        try:\r\n",
    "          img[i-1][j-1][0] = next(msg_gen)\r\n",
    "        except StopIteration:\r\n",
    "          img[i-1][j-1][0] = 0\r\n",
    "          return img\r\n",
    "\r\n",
    "def decode_image(img_loc):\r\n",
    "  img = get_image(img_loc)\r\n",
    "  pattern = gcd(len(img), len(img[0]))\r\n",
    "  message = ''\r\n",
    "  print(pattern)\r\n",
    "  for i in range(len(img)):\r\n",
    "    for j in range(len(img[0])):\r\n",
    "      if (i-1 * j-1) % pattern == 0:\r\n",
    "        print(i-1,j-1)\r\n",
    "        if img[i-1][j-1][0] != 0:\r\n",
    "          message = message + chr(img[i-1][j-1][0])\r\n",
    "        else:\r\n",
    "          return message\r\n",
    "\r\n",
    "decode_image(\"meteor_challenge_01.png\")\r\n"
   ],
   "outputs": [
    {
     "output_type": "stream",
     "name": "stdout",
     "text": [
      "704\n",
      "-1 702\n"
     ]
    },
    {
     "output_type": "execute_result",
     "data": {
      "text/plain": [
       "''"
      ]
     },
     "metadata": {},
     "execution_count": 22
    }
   ],
   "metadata": {}
  }
 ],
 "metadata": {
  "orig_nbformat": 4,
  "language_info": {
   "name": "python",
   "version": "3.7.4",
   "mimetype": "text/x-python",
   "codemirror_mode": {
    "name": "ipython",
    "version": 3
   },
   "pygments_lexer": "ipython3",
   "nbconvert_exporter": "python",
   "file_extension": ".py"
  },
  "kernelspec": {
   "name": "python3",
   "display_name": "Python 3.7.4 32-bit ('Python37-32')"
  },
  "interpreter": {
   "hash": "a7e498de035336729621da851ea705c42bf6f0048d24c1aeb3cae20c623b4c95"
  }
 },
 "nbformat": 4,
 "nbformat_minor": 2
}